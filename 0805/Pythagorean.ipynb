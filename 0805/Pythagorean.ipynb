{
 "cells": [
  {
   "cell_type": "code",
   "execution_count": 3,
   "metadata": {},
   "outputs": [
    {
     "name": "stdout",
     "output_type": "stream",
     "text": [
      "Please input the short edge of a triangle\n",
      "3\n",
      "Please input the second short edge of a triangle\n",
      "4\n",
      "The long edge of the triangle is 5.0 in length.\n"
     ]
    }
   ],
   "source": [
    "from math import sqrt\n",
    "\n",
    "print(\"Please input the short edge of a triangle\")\n",
    "a = input()\n",
    "print(\"Please input the second short edge of a triangle\")\n",
    "b = input()\n",
    "\n",
    "print(\"The long edge of the triangle is {} in length.\".format(sqrt(int(a)**2 + int(b)**2)))"
   ]
  },
  {
   "cell_type": "code",
   "execution_count": null,
   "metadata": {},
   "outputs": [],
   "source": []
  }
 ],
 "metadata": {
  "kernelspec": {
   "display_name": "Python 3",
   "language": "python",
   "name": "python3"
  },
  "language_info": {
   "codemirror_mode": {
    "name": "ipython",
    "version": 3
   },
   "file_extension": ".py",
   "mimetype": "text/x-python",
   "name": "python",
   "nbconvert_exporter": "python",
   "pygments_lexer": "ipython3",
   "version": "3.7.3"
  }
 },
 "nbformat": 4,
 "nbformat_minor": 2
}
